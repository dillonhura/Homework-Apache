{
  "nbformat": 4,
  "nbformat_minor": 0,
  "metadata": {
    "colab": {
      "provenance": [],
      "toc_visible": true
    },
    "kernelspec": {
      "name": "python3",
      "display_name": "Python 3"
    },
    "language_info": {
      "name": "python"
    }
  },
  "cells": [
    {
      "cell_type": "markdown",
      "source": [
        "# 0.&nbsp; Connect Google Drive"
      ],
      "metadata": {
        "id": "An0JY0KIS6pj"
      }
    },
    {
      "cell_type": "code",
      "source": [
        "from google.colab import drive\n",
        "drive.mount('/content/drive')"
      ],
      "metadata": {
        "colab": {
          "base_uri": "https://localhost:8080/"
        },
        "id": "IUGF1YzfS6ML",
        "outputId": "4c2aa733-ac7e-4ea4-91f9-f70269aa1107"
      },
      "execution_count": 1,
      "outputs": [
        {
          "output_type": "stream",
          "name": "stdout",
          "text": [
            "Drive already mounted at /content/drive; to attempt to forcibly remount, call drive.mount(\"/content/drive\", force_remount=True).\n"
          ]
        }
      ]
    },
    {
      "cell_type": "code",
      "execution_count": 2,
      "metadata": {
        "id": "m0MUarrMSSBp"
      },
      "outputs": [],
      "source": [
        "import os\n",
        "default_dir = '/content/drive/MyDrive/DE Digital Skola/hw_apache_spark'\n",
        "os.chdir(default_dir)"
      ]
    },
    {
      "cell_type": "markdown",
      "source": [
        "# 1.&nbsp; Setting up PySpark in Colab"
      ],
      "metadata": {
        "id": "cc79sIMTTYOI"
      }
    },
    {
      "cell_type": "code",
      "source": [
        "!sudo apt update"
      ],
      "metadata": {
        "colab": {
          "base_uri": "https://localhost:8080/"
        },
        "id": "ms1ptOIxVldr",
        "outputId": "07b43bf2-0c8f-47c7-c286-acb4c31624f3"
      },
      "execution_count": 3,
      "outputs": [
        {
          "output_type": "stream",
          "name": "stdout",
          "text": [
            "\u001b[33m\r0% [Working]\u001b[0m\r            \rHit:1 https://cloud.r-project.org/bin/linux/ubuntu jammy-cran40/ InRelease\n",
            "\u001b[33m\r0% [Connecting to archive.ubuntu.com (91.189.91.83)] [Connecting to security.ub\u001b[0m\r                                                                               \rHit:2 https://developer.download.nvidia.com/compute/cuda/repos/ubuntu2204/x86_64  InRelease\n",
            "\u001b[33m\r0% [Connecting to archive.ubuntu.com (91.189.91.83)] [Connecting to security.ub\u001b[0m\r                                                                               \rHit:3 http://archive.ubuntu.com/ubuntu jammy InRelease\n",
            "Get:4 http://archive.ubuntu.com/ubuntu jammy-updates InRelease [119 kB]\n",
            "Get:5 http://security.ubuntu.com/ubuntu jammy-security InRelease [110 kB]\n",
            "Hit:6 http://archive.ubuntu.com/ubuntu jammy-backports InRelease\n",
            "Hit:7 https://ppa.launchpadcontent.net/c2d4u.team/c2d4u4.0+/ubuntu jammy InRelease\n",
            "Hit:8 https://ppa.launchpadcontent.net/deadsnakes/ppa/ubuntu jammy InRelease\n",
            "Hit:9 https://ppa.launchpadcontent.net/graphics-drivers/ppa/ubuntu jammy InRelease\n",
            "Hit:10 https://ppa.launchpadcontent.net/ubuntugis/ppa/ubuntu jammy InRelease\n",
            "Fetched 229 kB in 1s (169 kB/s)\n",
            "Reading package lists... Done\n",
            "Building dependency tree... Done\n",
            "Reading state information... Done\n",
            "43 packages can be upgraded. Run 'apt list --upgradable' to see them.\n"
          ]
        }
      ]
    },
    {
      "cell_type": "code",
      "source": [
        "# download Java\n",
        "!apt-get install openjdk-8-jdk-headless -qq > /dev/null"
      ],
      "metadata": {
        "id": "iq-Hb2MfTYOK"
      },
      "execution_count": 4,
      "outputs": []
    },
    {
      "cell_type": "code",
      "source": [
        "# download Spark\n",
        "# !wget -q https://dlcdn.apache.org/spark/spark-3.4.2/spark-3.4.2-bin-hadoop3.tgz"
      ],
      "metadata": {
        "id": "fkj5MlEoZJoE"
      },
      "execution_count": null,
      "outputs": []
    },
    {
      "cell_type": "code",
      "source": [
        "# unzip that folder.\n",
        "!tar xf spark-3.4.2-bin-hadoop3.tgz"
      ],
      "metadata": {
        "id": "Yk1OeNvDURF0"
      },
      "execution_count": 5,
      "outputs": []
    },
    {
      "cell_type": "code",
      "source": [
        "os.environ[\"JAVA_HOME\"] = \"/usr/lib/jvm/java-8-openjdk-amd64\"\n",
        "os.environ[\"SPARK_HOME\"] = \"/content/drive/MyDrive/DE Digital Skola/hw_apache_spark/spark-3.4.2-bin-hadoop3\""
      ],
      "metadata": {
        "id": "KFw9EkEzVgZG"
      },
      "execution_count": 6,
      "outputs": []
    },
    {
      "cell_type": "code",
      "source": [
        "!pip install pyspark\n",
        "!pip install -q findspark"
      ],
      "metadata": {
        "colab": {
          "base_uri": "https://localhost:8080/"
        },
        "id": "rvXnczFxZxgE",
        "outputId": "06d679cc-6dd0-4548-8333-5c3fe73afdfe"
      },
      "execution_count": 7,
      "outputs": [
        {
          "output_type": "stream",
          "name": "stdout",
          "text": [
            "Requirement already satisfied: pyspark in /usr/local/lib/python3.10/dist-packages (3.5.0)\n",
            "Requirement already satisfied: py4j==0.10.9.7 in /usr/local/lib/python3.10/dist-packages (from pyspark) (0.10.9.7)\n"
          ]
        }
      ]
    },
    {
      "cell_type": "code",
      "source": [
        "import findspark\n",
        "findspark.init()\n",
        "findspark.find()"
      ],
      "metadata": {
        "colab": {
          "base_uri": "https://localhost:8080/",
          "height": 35
        },
        "id": "dUBczDM6dD2e",
        "outputId": "b1a863ad-6b4f-4c4c-b97a-ce0b41ddea32"
      },
      "execution_count": 8,
      "outputs": [
        {
          "output_type": "execute_result",
          "data": {
            "text/plain": [
              "'/content/drive/MyDrive/DE Digital Skola/hw_apache_spark/spark-3.4.2-bin-hadoop3'"
            ],
            "application/vnd.google.colaboratory.intrinsic+json": {
              "type": "string"
            }
          },
          "metadata": {},
          "execution_count": 8
        }
      ]
    },
    {
      "cell_type": "markdown",
      "source": [
        "# 2.&nbsp; Create a SparkSession"
      ],
      "metadata": {
        "id": "KtZHIsrVfO9v"
      }
    },
    {
      "cell_type": "code",
      "source": [
        "from pyspark.sql import SparkSession\n",
        "\n",
        "spark = SparkSession \\\n",
        "        .builder \\\n",
        "        .appName(\"Laptop Store Data Analysis\") \\\n",
        "        .getOrCreate()"
      ],
      "metadata": {
        "id": "vyzBl83kZWA1"
      },
      "execution_count": 9,
      "outputs": []
    },
    {
      "cell_type": "code",
      "source": [
        "spark"
      ],
      "metadata": {
        "colab": {
          "base_uri": "https://localhost:8080/",
          "height": 219
        },
        "id": "j1mWajHyZWHU",
        "outputId": "784e8726-f47a-4c34-abaa-0f4e267dcb07"
      },
      "execution_count": 10,
      "outputs": [
        {
          "output_type": "execute_result",
          "data": {
            "text/plain": [
              "<pyspark.sql.session.SparkSession at 0x79a268a77010>"
            ],
            "text/html": [
              "\n",
              "            <div>\n",
              "                <p><b>SparkSession - in-memory</b></p>\n",
              "                \n",
              "        <div>\n",
              "            <p><b>SparkContext</b></p>\n",
              "\n",
              "            <p><a href=\"http://46fa8e961c44:4040\">Spark UI</a></p>\n",
              "\n",
              "            <dl>\n",
              "              <dt>Version</dt>\n",
              "                <dd><code>v3.4.2</code></dd>\n",
              "              <dt>Master</dt>\n",
              "                <dd><code>local[*]</code></dd>\n",
              "              <dt>AppName</dt>\n",
              "                <dd><code>Laptop Store Data Analysis</code></dd>\n",
              "            </dl>\n",
              "        </div>\n",
              "        \n",
              "            </div>\n",
              "        "
            ]
          },
          "metadata": {},
          "execution_count": 10
        }
      ]
    },
    {
      "cell_type": "markdown",
      "source": [
        "# 3.&nbsp;  Import and Read the Dataset\n",
        "as a Spark DataFrame"
      ],
      "metadata": {
        "id": "JEeiCXiWh1XH"
      }
    },
    {
      "cell_type": "code",
      "source": [
        "# Step 2: Import and read the dataset as a Spark DataFrame\n",
        "file_path = \"laptop_pricing_dataset.csv\"\n",
        "laptop_df = spark.read.csv(\n",
        "    file_path,\n",
        "    header=True,\n",
        "    inferSchema=True\n",
        ")"
      ],
      "metadata": {
        "id": "yq5CkNDZfFVd"
      },
      "execution_count": 11,
      "outputs": []
    },
    {
      "cell_type": "markdown",
      "source": [
        "# 4.&nbsp;  Answer the Business Questions"
      ],
      "metadata": {
        "id": "N0sedYm5iVGn"
      }
    },
    {
      "cell_type": "code",
      "source": [
        "from pyspark.sql.functions import (\n",
        "    avg, count, when, desc)"
      ],
      "metadata": {
        "id": "1Jl-4IMDkdvE"
      },
      "execution_count": 21,
      "outputs": []
    },
    {
      "cell_type": "markdown",
      "source": [
        "## a. Q1: How the average RAM GB per manufacturer ? which manufacturer has higher average RAM ?\n",
        ""
      ],
      "metadata": {
        "id": "WEAwAKWziomv"
      }
    },
    {
      "cell_type": "code",
      "source": [
        "# Calculate average RAM GB per manufacturer\n",
        "avg_ram_per_manufacturer = laptop_df \\\n",
        "                           .groupBy(\"Manufacturer\") \\\n",
        "                           .agg(avg(\"RAM_GB\") \\\n",
        "                           .alias(\"avg_ram_gb\"))\n",
        "\n",
        "avg_ram_per_manufacturer.show()"
      ],
      "metadata": {
        "colab": {
          "base_uri": "https://localhost:8080/"
        },
        "id": "OcsMwMiVfFlE",
        "outputId": "01c60dba-a837-4540-9d5e-25482f442bf6"
      },
      "execution_count": 15,
      "outputs": [
        {
          "output_type": "stream",
          "name": "stdout",
          "text": [
            "+------------+-----------------+\n",
            "|Manufacturer|       avg_ram_gb|\n",
            "+------------+-----------------+\n",
            "|       Razer|             16.0|\n",
            "|      Huawei|              8.0|\n",
            "|      Xiaomi|              8.0|\n",
            "|          HP|7.346938775510204|\n",
            "|        Dell|8.225352112676056|\n",
            "|        Acer|7.368421052631579|\n",
            "|        Asus|7.888888888888889|\n",
            "|      Lenovo|7.576923076923077|\n",
            "|     Samsung|             11.2|\n",
            "|         MSI|              8.0|\n",
            "|     Toshiba|              8.0|\n",
            "+------------+-----------------+\n",
            "\n"
          ]
        }
      ]
    },
    {
      "cell_type": "code",
      "source": [
        "# Identify manufacturer with the highest average RAM\n",
        "manufacturer_with_highest_avg_ram = avg_ram_per_manufacturer \\\n",
        "                                    .orderBy(\"avg_ram_gb\", ascending=False) \\\n",
        "                                    .first()[\"Manufacturer\"]\n",
        "\n",
        "manufacturer_with_highest_avg_ram.show()"
      ],
      "metadata": {
        "colab": {
          "base_uri": "https://localhost:8080/",
          "height": 35
        },
        "id": "AuAhT6q0mwN0",
        "outputId": "ce7fe919-b47f-4862-ca35-d534e7bd0e41"
      },
      "execution_count": 16,
      "outputs": [
        {
          "output_type": "execute_result",
          "data": {
            "text/plain": [
              "'Razer'"
            ],
            "application/vnd.google.colaboratory.intrinsic+json": {
              "type": "string"
            }
          },
          "metadata": {},
          "execution_count": 16
        }
      ]
    },
    {
      "cell_type": "markdown",
      "source": [
        "Jawaban: Razer, Average RAM 16.0 GB"
      ],
      "metadata": {
        "id": "FdhcQs-UmDYx"
      }
    },
    {
      "cell_type": "markdown",
      "source": [
        "## b. Q2: Please calculate the average screen size per Screen Type, and order it by average from higher to lowest.\n"
      ],
      "metadata": {
        "id": "LUuwlG1BmRUt"
      }
    },
    {
      "cell_type": "code",
      "source": [
        "# Calculate average screen size per Screen Type\n",
        "avg_screen_size_per_type = laptop_df \\\n",
        "                           .groupBy(\"Screen\") \\\n",
        "                           .agg(avg(\"Screen_Size_cm\")\\\n",
        "                           .alias(\"avg_screen_size_cm\"))\n",
        "\n",
        "# Order by average screen size from highest to lowest\n",
        "avg_screen_size_per_type = avg_screen_size_per_type \\\n",
        "                           .orderBy(\"avg_screen_size_cm\", ascending=False)\n",
        "\n",
        "# Show the result\n",
        "avg_screen_size_per_type.show()"
      ],
      "metadata": {
        "colab": {
          "base_uri": "https://localhost:8080/"
        },
        "id": "AhlxN-AZlTCD",
        "outputId": "de0ef5b2-7c10-424b-9693-111575bcfd18"
      },
      "execution_count": 17,
      "outputs": [
        {
          "output_type": "stream",
          "name": "stdout",
          "text": [
            "+---------+------------------+\n",
            "|   Screen|avg_screen_size_cm|\n",
            "+---------+------------------+\n",
            "|  Full HD|37.968955414012704|\n",
            "|IPS Panel| 35.84368831168828|\n",
            "+---------+------------------+\n",
            "\n"
          ]
        }
      ]
    },
    {
      "cell_type": "markdown",
      "source": [
        "## c. Q3: Please do profiling by manufacturer and screen type, which manufacturer has more IPS Panel product, Full HD product, and so on by counting the record by those two columns.\n"
      ],
      "metadata": {
        "id": "CVKwKuMIkmR-"
      }
    },
    {
      "cell_type": "code",
      "source": [
        "# Profiling by manufacturer and screen type\n",
        "profiling_results = laptop_df.groupBy(\"Manufacturer\", \"Screen\") \\\n",
        "    .agg(\n",
        "        count(when(laptop_df.Screen == \"IPS Panel\", True)).alias(\"ips_panel_count\"),\n",
        "        count(when(laptop_df.Screen == \"Full HD\", True)).alias(\"full_hd_count\")\n",
        "    ).orderBy(desc(\"ips_panel_count\"), desc(\"full_hd_count\"))\n",
        "\n",
        "# Show the profiling results\n",
        "profiling_results.show()"
      ],
      "metadata": {
        "colab": {
          "base_uri": "https://localhost:8080/"
        },
        "id": "qFHEEWop03yU",
        "outputId": "c6beb8cc-f574-4985-f67f-668ee045891d"
      },
      "execution_count": 31,
      "outputs": [
        {
          "output_type": "stream",
          "name": "stdout",
          "text": [
            "+------------+---------+---------------+-------------+\n",
            "|Manufacturer|   Screen|ips_panel_count|full_hd_count|\n",
            "+------------+---------+---------------+-------------+\n",
            "|      Lenovo|IPS Panel|             32|            0|\n",
            "|        Acer|IPS Panel|             14|            0|\n",
            "|     Toshiba|IPS Panel|             10|            0|\n",
            "|        Dell|IPS Panel|              9|            0|\n",
            "|          HP|IPS Panel|              8|            0|\n",
            "|        Asus|IPS Panel|              2|            0|\n",
            "|      Huawei|IPS Panel|              1|            0|\n",
            "|      Xiaomi|IPS Panel|              1|            0|\n",
            "|        Dell|  Full HD|              0|           62|\n",
            "|          HP|  Full HD|              0|           41|\n",
            "|      Lenovo|  Full HD|              0|           20|\n",
            "|        Asus|  Full HD|              0|           16|\n",
            "|     Toshiba|  Full HD|              0|            7|\n",
            "|     Samsung|  Full HD|              0|            5|\n",
            "|        Acer|  Full HD|              0|            5|\n",
            "|         MSI|  Full HD|              0|            4|\n",
            "|       Razer|  Full HD|              0|            1|\n",
            "+------------+---------+---------------+-------------+\n",
            "\n"
          ]
        }
      ]
    },
    {
      "cell_type": "code",
      "source": [],
      "metadata": {
        "id": "UhUuZhJo06QA"
      },
      "execution_count": null,
      "outputs": []
    }
  ]
}